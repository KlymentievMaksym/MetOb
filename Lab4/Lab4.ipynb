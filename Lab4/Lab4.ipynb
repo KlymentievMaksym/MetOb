{
 "cells": [
  {
   "cell_type": "code",
   "execution_count": 85,
   "id": "f5354936",
   "metadata": {},
   "outputs": [],
   "source": [
    "import numpy as np\n",
    "matrix = np.array([\n",
    "    [6.20, 1.10, 0.94, 1.21],\n",
    "    [1.10, 4.10, 1.30, 0.16],\n",
    "    [0.94, 1.30, 7.40, 1.10],\n",
    "    [1.21, 0.16, 1.10, 9.10]\n",
    "])"
   ]
  },
  {
   "cell_type": "code",
   "execution_count": 86,
   "id": "3b7cd3a4",
   "metadata": {},
   "outputs": [],
   "source": [
    "# matrix = np.array([\n",
    "#     [2.2, 1, 0.5, 2],\n",
    "#     [1, 1.3, 2, 1],\n",
    "#     [0.5, 2, 0.5, 1.6],\n",
    "#     [2, 1, 1.6, 2]\n",
    "# ])\n",
    "# matrix"
   ]
  },
  {
   "cell_type": "code",
   "execution_count": 87,
   "id": "c4864fd4",
   "metadata": {},
   "outputs": [
    {
     "name": "stdout",
     "output_type": "stream",
     "text": [
      "$\n",
      "\\left(\\begin{matrix}\n",
      "    6.2 & 1.1 & 0.94 & 1.21 \\\\\n",
      "    1.1 & 4.1 & 1.3 & 0.16 \\\\\n",
      "    0.94 & 1.3 & 7.4 & 1.1 \\\\\n",
      "    1.21 & 0.16 & 1.1 & 9.1 \\\\\n",
      "\\end{matrix}\\right)\n",
      "$\n"
     ]
    }
   ],
   "source": [
    "def latex_matrix(matrix):\n",
    "    matrix_ = matrix.copy()\n",
    "    text = \"$\\n\"\n",
    "    text += r\"\\left(\\begin{matrix}\" + \"\\n\"\n",
    "    for row in matrix_:\n",
    "        text += \" \"*4 + \" & \".join(map(str, row)) + r\" \\\\\" + \"\\n\"\n",
    "    text += r\"\\end{matrix}\\right)\"\n",
    "    text += \"\\n$\"\n",
    "    return text\n",
    "print(latex_matrix(matrix))"
   ]
  },
  {
   "cell_type": "code",
   "execution_count": 88,
   "id": "23e12ab9",
   "metadata": {},
   "outputs": [
    {
     "name": "stdout",
     "output_type": "stream",
     "text": [
      "$A_3 = $\n",
      "$\n",
      "\\left(\\begin{matrix}\n",
      "    6.2 & 1.1 & 0.94 & 1.21 \\\\\n",
      "    1.1 & 4.1 & 1.3 & 0.16 \\\\\n",
      "    0.94 & 1.3 & 7.4 & 1.1 \\\\\n",
      "    1.21 & 0.16 & 1.1 & 9.1 \\\\\n",
      "\\end{matrix}\\right)\n",
      "$\n",
      "\n",
      "$M^{-1}_3 = $\n",
      "$\n",
      "\\left(\\begin{matrix}\n",
      "    1.0 & 0.0 & 0.0 & 0.0 \\\\\n",
      "    0.0 & 1.0 & 0.0 & 0.0 \\\\\n",
      "    1.21 & 0.16 & 1.1 & 9.1 \\\\\n",
      "    0.0 & 0.0 & 0.0 & 1.0 \\\\\n",
      "\\end{matrix}\\right)\n",
      "$\n",
      "\n",
      "$M_3 = $\n",
      "$\n",
      "\\left(\\begin{matrix}\n",
      "    1.0 & 0.0 & 0.0 & 0.0 \\\\\n",
      "    0.0 & 1.0 & 0.0 & 0.0 \\\\\n",
      "    -1.1 & -0.1455 & 0.9091 & -8.2727 \\\\\n",
      "    0.0 & 0.0 & 0.0 & 1.0 \\\\\n",
      "\\end{matrix}\\right)\n",
      "$\n",
      "\n",
      "$A_2 = $\n",
      "$\n",
      "\\left(\\begin{matrix}\n",
      "    5.166 & 0.9633 & 0.8545 & -6.5664 \\\\\n",
      "    -0.33 & 3.9109 & 1.1818 & -10.5945 \\\\\n",
      "    -1.7219 & 2.0373 & 17.7231 & -75.7704 \\\\\n",
      "    0.0 & -0.0 & 1.0 & 0.0 \\\\\n",
      "\\end{matrix}\\right)\n",
      "$\n",
      "\n",
      "$M^{-1}_2 = $\n",
      "$\n",
      "\\left(\\begin{matrix}\n",
      "    1.0 & 0.0 & 0.0 & 0.0 \\\\\n",
      "    -1.7219 & 2.0373 & 17.7231 & -75.7704 \\\\\n",
      "    0.0 & 0.0 & 1.0 & 0.0 \\\\\n",
      "    0.0 & 0.0 & 0.0 & 1.0 \\\\\n",
      "\\end{matrix}\\right)\n",
      "$\n",
      "\n",
      "$M_2 = $\n",
      "$\n",
      "\\left(\\begin{matrix}\n",
      "    1.0 & 0.0 & 0.0 & 0.0 \\\\\n",
      "    0.8452 & 0.4908 & -8.6993 & 37.1915 \\\\\n",
      "    0.0 & 0.0 & 1.0 & 0.0 \\\\\n",
      "    0.0 & 0.0 & 0.0 & 1.0 \\\\\n",
      "\\end{matrix}\\right)\n",
      "$\n",
      "\n",
      "$A_1 = $\n",
      "$\n",
      "\\left(\\begin{matrix}\n",
      "    5.9802 & 0.4728 & -7.5252 & 29.2592 \\\\\n",
      "    -4.2354 & 20.8198 & -129.7181 & 224.3644 \\\\\n",
      "    -0.0 & 1.0 & 0.0 & 0.0 \\\\\n",
      "    0.0 & -0.0 & 1.0 & -0.0 \\\\\n",
      "\\end{matrix}\\right)\n",
      "$\n",
      "\n",
      "$M^{-1}_1 = $\n",
      "$\n",
      "\\left(\\begin{matrix}\n",
      "    -4.2354 & 20.8198 & -129.7181 & 224.3644 \\\\\n",
      "    0.0 & 1.0 & 0.0 & 0.0 \\\\\n",
      "    0.0 & 0.0 & 1.0 & 0.0 \\\\\n",
      "    0.0 & 0.0 & 0.0 & 1.0 \\\\\n",
      "\\end{matrix}\\right)\n",
      "$\n",
      "\n",
      "$M_1 = $\n",
      "$\n",
      "\\left(\\begin{matrix}\n",
      "    -0.2361 & 4.9156 & -30.6268 & 52.9731 \\\\\n",
      "    0.0 & 1.0 & 0.0 & 0.0 \\\\\n",
      "    0.0 & 0.0 & 1.0 & 0.0 \\\\\n",
      "    0.0 & 0.0 & 0.0 & 1.0 \\\\\n",
      "\\end{matrix}\\right)\n",
      "$\n",
      "\n",
      "$A_0 = P = $\n",
      "$\n",
      "\\left(\\begin{matrix}\n",
      "    26.8 & -256.2267 & 1031.9724 & -1465.6609 \\\\\n",
      "    1.0 & 0.0 & 0.0 & 0.0 \\\\\n",
      "    0.0 & 1.0 & 0.0 & -0.0 \\\\\n",
      "    -0.0 & 0.0 & 1.0 & 0.0 \\\\\n",
      "\\end{matrix}\\right)\n",
      "$\n",
      "\n"
     ]
    },
    {
     "data": {
      "text/plain": [
       "(array([   26.8       ,  -256.2267    ,  1031.97237   , -1465.66094076]),\n",
       " array([[ -0.23610292,   4.91562432, -30.62682133,  52.97308101],\n",
       "        [ -0.19955528,   4.64555284, -34.5852113 ,  81.96458416],\n",
       "        [  0.28873943,  -6.08290353,  39.62917056, -78.46523771],\n",
       "        [  0.        ,   0.        ,   0.        ,   1.        ]]))"
      ]
     },
     "execution_count": 88,
     "metadata": {},
     "output_type": "execute_result"
    }
   ],
   "source": [
    "def Danilevsky(matrix):\n",
    "    n = len(matrix)\n",
    "    Ps = np.zeros((n, n, n))\n",
    "    Ps[-1] = matrix.copy()\n",
    "    Ms = np.array(list(np.identity(n)for i in range(n-1)))\n",
    "    Ms_1 = np.array(list(np.identity(n)for i in range(n-1)))\n",
    "    M = None\n",
    "    for k in range(n-2, -1, -1):\n",
    "    # print(Ps[k+1][k+1])\n",
    "    # print(Ps[k+1][k+1][k])\n",
    "        Ms[k][k] = -Ps[k+1][k+1] / Ps[k+1][k+1][k]\n",
    "        Ms[k][k][k] = -Ms[k][k][k] / Ps[k+1][k+1][k]\n",
    "\n",
    "        Ms_1[k][k] = Ps[k+1][k+1]\n",
    "        index = k + 1\n",
    "        print(f\"$A_{index} = $\", latex_matrix(np.round(Ps[k+1], 4)) + \"\\n\", r\"$M^{-1}\" + f\"_{index} = $\", latex_matrix(np.round(Ms_1[k], 4)) + \"\\n\", f\"$M_{index} = $\", latex_matrix(np.round(Ms[k], 4)) + \"\\n\", sep='\\n')\n",
    "\n",
    "        Ps[k] = Ms_1[k] @ Ps[k+1] @ Ms[k]\n",
    "        if M is None:\n",
    "            M = Ms[k]\n",
    "        else:\n",
    "            M @= Ms[k]\n",
    "\n",
    "    print(f\"$A_{0} = P = $\", latex_matrix(np.round(Ps[0], 4)) + \"\\n\", sep='\\n')\n",
    "    # print(Ms[k])\n",
    "    # print(Ms_1[k])\n",
    "    # print(Ps[k])\n",
    "\n",
    "    return Ps[0][0], M\n",
    "\n",
    "coefs, M = Danilevsky(matrix)\n",
    "coefs, M"
   ]
  },
  {
   "cell_type": "code",
   "execution_count": 89,
   "id": "7045b828",
   "metadata": {},
   "outputs": [
    {
     "name": "stdout",
     "output_type": "stream",
     "text": [
      "$\n",
      "\\left(\\begin{matrix}\n",
      "    26.8 \\\\\n",
      "    -256.2267 \\\\\n",
      "    1031.9724 \\\\\n",
      "    -1465.6609 \\\\\n",
      "\\end{matrix}\\right)\n",
      "$\n"
     ]
    }
   ],
   "source": [
    "print(latex_matrix(np.atleast_2d(np.round(coefs, 4)).T))"
   ]
  },
  {
   "cell_type": "code",
   "execution_count": 90,
   "id": "df1e2f8d",
   "metadata": {},
   "outputs": [
    {
     "name": "stdout",
     "output_type": "stream",
     "text": [
      "$\n",
      "\\left(\\begin{matrix}\n",
      "    26.8 & -256.2267 & 1031.97237 & -1465.660941 \\\\\n",
      "    1.0 & 0.0 & -0.0 & 0.0 \\\\\n",
      "    -0.0 & 1.0 & -0.0 & 0.0 \\\\\n",
      "    -0.0 & 0.0 & 1.0 & -0.0 \\\\\n",
      "\\end{matrix}\\right)\n",
      "$\n"
     ]
    },
    {
     "data": {
      "text/plain": [
       "array([[ 2.68000000e+01, -2.56226700e+02,  1.03197237e+03,\n",
       "        -1.46566094e+03],\n",
       "       [ 1.00000000e+00,  0.00000000e+00, -0.00000000e+00,\n",
       "         0.00000000e+00],\n",
       "       [-0.00000000e+00,  1.00000000e+00, -0.00000000e+00,\n",
       "         0.00000000e+00],\n",
       "       [-0.00000000e+00,  0.00000000e+00,  1.00000000e+00,\n",
       "        -0.00000000e+00]])"
      ]
     },
     "execution_count": 90,
     "metadata": {},
     "output_type": "execute_result"
    }
   ],
   "source": [
    "P = np.round(np.linalg.inv(M) @ matrix @ M, 6)\n",
    "print(latex_matrix(P))\n",
    "P"
   ]
  },
  {
   "cell_type": "code",
   "execution_count": 91,
   "id": "fc7f2d4d",
   "metadata": {},
   "outputs": [
    {
     "data": {
      "text/plain": [
       "[[np.float64(3.3033033033033092), np.float64(3.5035035035035094)],\n",
       " [np.float64(5.505505505505511), np.float64(5.705705705705711)],\n",
       " [np.float64(7.307307307307312), np.float64(7.507507507507512)],\n",
       " [np.float64(10.310310310310314), np.float64(10.510510510510514)]]"
      ]
     },
     "execution_count": 91,
     "metadata": {},
     "output_type": "execute_result"
    }
   ],
   "source": [
    "def F(X, coefs):\n",
    "    n = len(coefs)\n",
    "    degrees = np.arange(n-1, -1, -1)\n",
    "    # print(X, n, coefs, degrees)\n",
    "    # [-2, 1, 5, -2, 7]\n",
    "    # f = -2*x**4 + x**3 + 5*x**2 - 2*x + 7\n",
    "    res = np.zeros(len(X))\n",
    "    for x_index in range(len(X)):\n",
    "        for degree_index in range(len(degrees)):\n",
    "            res[x_index] += coefs[degree_index] * X[x_index]**degrees[degree_index]\n",
    "    return res\n",
    "\n",
    "def find_intervals(coefs, interval_of_finding=[-10, 10], dots_count=30):\n",
    "    dots_count = int(dots_count)\n",
    "    intervals = []\n",
    "    n = len(coefs)\n",
    "    polys = [coefs, np.polyder(coefs)]\n",
    "    for i in range(1, n-1):\n",
    "        polys.append(-np.polydiv(polys[i-1], polys[i])[1])\n",
    "\n",
    "    # print(polys)\n",
    "\n",
    "    # X = np.array([-2, -1.7, -1.4, -1, 0.8, 1.1, 1.4, 1.7, 2.0, 2.1])\n",
    "    X = np.linspace(*interval_of_finding, dots_count)\n",
    "    matrix = np.zeros((len(polys), len(X)))\n",
    "    for poly_index in range(len(polys)):\n",
    "        # print(polys[poly_index])\n",
    "        # matrix[poly_index] = F(X, polys[poly_index])\n",
    "        matrix[poly_index] = np.polyval(polys[poly_index], X)\n",
    "\n",
    "    # print(matrix.T)\n",
    "    # print(np.sum(matrix.T > 0, axis=1))\n",
    "    # print(np.sign(matrix.T))\n",
    "    # print(np.diff(np.sign(matrix.T), axis=1) != 0)\n",
    "    sign_change = np.sum(np.diff(np.sign(matrix.T), axis=1) != 0, axis=1)\n",
    "    difference = np.diff(sign_change, axis=0) != 0\n",
    "    for diff_index in range(len(difference)):\n",
    "        if difference[diff_index]:\n",
    "            intervals.append([X[diff_index], X[diff_index+1]])\n",
    "    return intervals\n",
    "    # print(difference)\n",
    "coef = np.array([1, *(-coefs)])\n",
    "# print(coef)\n",
    "intervals = find_intervals(coef, interval_of_finding=[-100, 100], dots_count=1e3)\n",
    "intervals\n",
    "# find_intervals(np.array([-2, 1, 5, -2, 7]), interval_of_finding=[-10, 10], dots_count=1e3)"
   ]
  },
  {
   "cell_type": "code",
   "execution_count": 92,
   "id": "518b3bce",
   "metadata": {},
   "outputs": [
    {
     "name": "stdout",
     "output_type": "stream",
     "text": [
      "$\n",
      "\\left(\\begin{matrix}\n",
      "    3.3875 \\\\\n",
      "    5.6635 \\\\\n",
      "    7.3377 \\\\\n",
      "    10.4112 \\\\\n",
      "\\end{matrix}\\right)\n",
      "$\n"
     ]
    }
   ],
   "source": [
    "def Newton(a, b, coefs, epsilon=1e-6):\n",
    "    xk = a\n",
    "    xk_1 = b\n",
    "\n",
    "    count = 0\n",
    "\n",
    "    while abs(xk - xk_1) >= epsilon or abs(np.polyval(coefs, xk)) >= epsilon:\n",
    "        xk_1 = xk\n",
    "        xk = xk - np.polyval(coefs, xk)/np.polyval(np.polyder(coefs), xk)\n",
    "        xk = np.clip(xk, a, b)\n",
    "        count += 1\n",
    "\n",
    "    return xk\n",
    "main_vectors = np.zeros((len(intervals)))\n",
    "for interval_index in range(len(intervals)):\n",
    "    main_vectors[interval_index] = Newton(*intervals[interval_index], coef)\n",
    "print(latex_matrix(np.atleast_2d(np.round(main_vectors, 4)).T))"
   ]
  },
  {
   "cell_type": "code",
   "execution_count": 93,
   "id": "d8464093",
   "metadata": {},
   "outputs": [
    {
     "data": {
      "text/plain": [
       "array([[ 3.38754919],\n",
       "       [ 5.66347944],\n",
       "       [ 7.33774909],\n",
       "       [10.41122228]])"
      ]
     },
     "execution_count": 93,
     "metadata": {},
     "output_type": "execute_result"
    }
   ],
   "source": [
    "main_vector = np.atleast_2d(main_vectors).T\n",
    "main_vector"
   ]
  },
  {
   "cell_type": "code",
   "execution_count": 94,
   "id": "0f165d92",
   "metadata": {},
   "outputs": [
    {
     "data": {
      "text/plain": [
       "array([   26.8       ,  -256.2267    ,  1031.97237   , -1465.66094076])"
      ]
     },
     "execution_count": 94,
     "metadata": {},
     "output_type": "execute_result"
    }
   ],
   "source": [
    "coefs"
   ]
  },
  {
   "cell_type": "code",
   "execution_count": 95,
   "id": "0b3c2fa8",
   "metadata": {},
   "outputs": [
    {
     "data": {
      "text/plain": [
       "(array([[ 5.66347944],\n",
       "        [ 7.33774909],\n",
       "        [10.41122228],\n",
       "        [ 6.14900756]]),\n",
       " array([[  41.6016845 ],\n",
       "        [ 176.88424859],\n",
       "        [-112.8947859 ],\n",
       "        [   6.14900756]]))"
      ]
     },
     "execution_count": 95,
     "metadata": {},
     "output_type": "execute_result"
    }
   ],
   "source": [
    "def Gauss_Method(A, b):\n",
    "    A_ = A.copy()    \n",
    "    b_ = b.copy()    \n",
    "    x = np.zeros_like(b)\n",
    "    for col in range(1, A.shape[1]):\n",
    "        for row in range(col, A.shape[0]):\n",
    "            zeroiator = (- A_[row, col-1]/A_[col-1, col-1])\n",
    "            A_[row] = A_[row] + A_[col-1] * zeroiator\n",
    "            b_[row] = b_[row] + b_[col-1] * zeroiator\n",
    "\n",
    "    for col in range(A.shape[1]-1, -1, -1):\n",
    "        result = 0\n",
    "        for row in range(A.shape[0]-1, col, -1):\n",
    "            result += A_[col, row] * x[row]\n",
    "        x[col] = (b_[col] - result)/A_[col, col]\n",
    "\n",
    "\n",
    "    return x\n",
    "y = Gauss_Method(P, main_vector)\n",
    "x = M @ y\n",
    "y, x"
   ]
  },
  {
   "cell_type": "code",
   "execution_count": 96,
   "id": "e7f9bc50",
   "metadata": {},
   "outputs": [
    {
     "name": "stdout",
     "output_type": "stream",
     "text": [
      "[[10.41122228]\n",
      " [ 3.38754919]\n",
      " [ 5.66347944]\n",
      " [ 7.33774909]]\n",
      "$\n",
      "\\left(\\begin{matrix}\n",
      "    10.4112 \\\\\n",
      "    3.3875 \\\\\n",
      "    5.6635 \\\\\n",
      "    7.3377 \\\\\n",
      "\\end{matrix}\\right)\n",
      "$\n"
     ]
    }
   ],
   "source": [
    "check = np.linalg.eigvals(matrix)\n",
    "check = np.atleast_2d(check).T\n",
    "print(check)\n",
    "print(latex_matrix(np.round(check, 4)))"
   ]
  }
 ],
 "metadata": {
  "kernelspec": {
   "display_name": "Python 3",
   "language": "python",
   "name": "python3"
  },
  "language_info": {
   "codemirror_mode": {
    "name": "ipython",
    "version": 3
   },
   "file_extension": ".py",
   "mimetype": "text/x-python",
   "name": "python",
   "nbconvert_exporter": "python",
   "pygments_lexer": "ipython3",
   "version": "3.12.3"
  }
 },
 "nbformat": 4,
 "nbformat_minor": 5
}
