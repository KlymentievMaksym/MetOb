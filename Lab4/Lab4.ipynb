{
 "cells": [
  {
   "cell_type": "code",
   "execution_count": 51,
   "id": "f5354936",
   "metadata": {},
   "outputs": [],
   "source": [
    "import numpy as np\n",
    "matrix = np.array([\n",
    "    [6.20, 1.10, 0.94, 1.21],\n",
    "    [1.10, 4.10, 1.30, 0.16],\n",
    "    [0.94, 1.30, 7.40, 1.10],\n",
    "    [1.21, 0.16, 1.10, 9.10]\n",
    "])"
   ]
  },
  {
   "cell_type": "code",
   "execution_count": 52,
   "id": "3b7cd3a4",
   "metadata": {},
   "outputs": [],
   "source": [
    "matrix = np.array([\n",
    "    [2.2, 1, 0.5, 2],\n",
    "    [1, 1.3, 2, 1],\n",
    "    [0.5, 2, 0.5, 1.6],\n",
    "    [2, 1, 1.6, 2]\n",
    "])"
   ]
  },
  {
   "cell_type": "code",
   "execution_count": 55,
   "id": "23e12ab9",
   "metadata": {},
   "outputs": [
    {
     "data": {
      "text/plain": [
       "(array([  6.    ,   0.2   , -12.735 ,   2.7616]),\n",
       " array([[-0.23112481,  1.07858243,  1.65100154, -1.1587057 ],\n",
       "        [ 0.08124387, -0.13671383, -1.64095812, -0.27390951],\n",
       "        [ 0.23812859, -1.2627819 , -0.4131531 ,  0.36957557],\n",
       "        [ 0.        ,  0.        ,  0.        ,  1.        ]]))"
      ]
     },
     "execution_count": 55,
     "metadata": {},
     "output_type": "execute_result"
    }
   ],
   "source": [
    "def Danilevsky(matrix):\n",
    "    n = len(matrix)\n",
    "    Ps = np.zeros((n, n, n))\n",
    "    Ps[-1] = matrix.copy()\n",
    "    Ms = np.array(list(np.identity(n)for i in range(n-1)))\n",
    "    Ms_1 = np.array(list(np.identity(n)for i in range(n-1)))\n",
    "    M = None\n",
    "    for k in range(n-2, -1, -1):\n",
    "    # print(Ps[k+1][k+1])\n",
    "    # print(Ps[k+1][k+1][k])\n",
    "        Ms[k][k] = -Ps[k+1][k+1] / Ps[k+1][k+1][k]\n",
    "        Ms[k][k][k] = -Ms[k][k][k] / Ps[k+1][k+1][k]\n",
    "\n",
    "        Ms_1[k][k] = Ps[k+1][k+1]\n",
    "\n",
    "        Ps[k] = Ms_1[k] @ Ps[k+1] @ Ms[k]\n",
    "        if M is None:\n",
    "            M = Ms[k]\n",
    "        else:\n",
    "            M @= Ms[k]\n",
    "\n",
    "    # print(Ms[k])\n",
    "    # print(Ms_1[k])\n",
    "    # print(Ps[k])\n",
    "\n",
    "    return Ps[0][0], M\n",
    "\n",
    "Danilevsky(matrix)"
   ]
  }
 ],
 "metadata": {
  "kernelspec": {
   "display_name": "Python 3",
   "language": "python",
   "name": "python3"
  },
  "language_info": {
   "codemirror_mode": {
    "name": "ipython",
    "version": 3
   },
   "file_extension": ".py",
   "mimetype": "text/x-python",
   "name": "python",
   "nbconvert_exporter": "python",
   "pygments_lexer": "ipython3",
   "version": "3.12.3"
  }
 },
 "nbformat": 4,
 "nbformat_minor": 5
}
