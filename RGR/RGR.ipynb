{
 "cells": [
  {
   "cell_type": "code",
   "execution_count": 43,
   "id": "12153b78",
   "metadata": {},
   "outputs": [],
   "source": [
    "import numpy as np\n",
    "import matplotlib.pyplot as plt"
   ]
  },
  {
   "cell_type": "code",
   "execution_count": 44,
   "id": "c502ffc1",
   "metadata": {},
   "outputs": [],
   "source": [
    "def u0(x):\n",
    "    return x * (x + 1)\n",
    "\n",
    "def u2(t):\n",
    "    return 2 * np.cos(np.pi * t)\n",
    "\n",
    "def u(t, x):\n",
    "    return u0(x) * np.cos(np.pi * t)\n",
    "\n",
    "def F(t, x):\n",
    "    return -np.cos(np.pi * t) * (np.pi**2 * x * (x + 1) + 2)"
   ]
  },
  {
   "cell_type": "code",
   "execution_count": 45,
   "id": "b4ddb99a",
   "metadata": {},
   "outputs": [],
   "source": [
    "x_limits = [0, 1]\n",
    "t_limits = [0, 10] # ?\n",
    "nx = 100 # x steps\n",
    "nt = 10000 # t steps\n",
    "\n",
    "u1 = 0\n",
    "\n",
    "x = np.linspace(*x_limits, nx)\n",
    "dx = x[1] - x[0]\n",
    "t = np.linspace(*t_limits, nt)\n",
    "dt = t[1] - t[0]\n"
   ]
  },
  {
   "cell_type": "code",
   "execution_count": 46,
   "id": "3ba3f9e3",
   "metadata": {},
   "outputs": [
    {
     "data": {
      "text/plain": [
       "(np.float64(0.010101010101010102),\n",
       " np.float64(0.001000100010001),\n",
       " np.float64(0.009802960494069209))"
      ]
     },
     "execution_count": 46,
     "metadata": {},
     "output_type": "execute_result"
    }
   ],
   "source": [
    "dx, dt, dt**2/dx**2"
   ]
  },
  {
   "cell_type": "code",
   "execution_count": 47,
   "id": "fb772569",
   "metadata": {},
   "outputs": [],
   "source": [
    "# y = u(t, x)\n",
    "\n",
    "# plt.plot(x, y, \"b-\", x, y, \"r.\")\n",
    "# plt.xlabel(\"x\")\n",
    "# plt.ylabel(\"y\")\n",
    "# plt.show()"
   ]
  }
 ],
 "metadata": {
  "kernelspec": {
   "display_name": "Python 3",
   "language": "python",
   "name": "python3"
  },
  "language_info": {
   "codemirror_mode": {
    "name": "ipython",
    "version": 3
   },
   "file_extension": ".py",
   "mimetype": "text/x-python",
   "name": "python",
   "nbconvert_exporter": "python",
   "pygments_lexer": "ipython3",
   "version": "3.12.3"
  }
 },
 "nbformat": 4,
 "nbformat_minor": 5
}
