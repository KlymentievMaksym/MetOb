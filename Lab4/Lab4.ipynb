{
 "cells": [
  {
   "cell_type": "code",
   "execution_count": 184,
   "id": "f5354936",
   "metadata": {},
   "outputs": [],
   "source": [
    "import numpy as np\n",
    "matrix = np.array([\n",
    "    [6.20, 1.10, 0.94, 1.21],\n",
    "    [1.10, 4.10, 1.30, 0.16],\n",
    "    [0.94, 1.30, 7.40, 1.10],\n",
    "    [1.21, 0.16, 1.10, 9.10]\n",
    "])"
   ]
  },
  {
   "cell_type": "code",
   "execution_count": 185,
   "id": "3b7cd3a4",
   "metadata": {},
   "outputs": [],
   "source": [
    "matrix = np.array([\n",
    "    [2.2, 1, 0.5, 2],\n",
    "    [1, 1.3, 2, 1],\n",
    "    [0.5, 2, 0.5, 1.6],\n",
    "    [2, 1, 1.6, 2]\n",
    "])"
   ]
  },
  {
   "cell_type": "code",
   "execution_count": 186,
   "id": "23e12ab9",
   "metadata": {},
   "outputs": [
    {
     "data": {
      "text/plain": [
       "(array([  6.    ,   0.2   , -12.735 ,   2.7616]),\n",
       " array([[-0.23112481,  1.07858243,  1.65100154, -1.1587057 ],\n",
       "        [ 0.08124387, -0.13671383, -1.64095812, -0.27390951],\n",
       "        [ 0.23812859, -1.2627819 , -0.4131531 ,  0.36957557],\n",
       "        [ 0.        ,  0.        ,  0.        ,  1.        ]]))"
      ]
     },
     "execution_count": 186,
     "metadata": {},
     "output_type": "execute_result"
    }
   ],
   "source": [
    "def Danilevsky(matrix):\n",
    "    n = len(matrix)\n",
    "    Ps = np.zeros((n, n, n))\n",
    "    Ps[-1] = matrix.copy()\n",
    "    Ms = np.array(list(np.identity(n)for i in range(n-1)))\n",
    "    Ms_1 = np.array(list(np.identity(n)for i in range(n-1)))\n",
    "    M = None\n",
    "    for k in range(n-2, -1, -1):\n",
    "    # print(Ps[k+1][k+1])\n",
    "    # print(Ps[k+1][k+1][k])\n",
    "        Ms[k][k] = -Ps[k+1][k+1] / Ps[k+1][k+1][k]\n",
    "        Ms[k][k][k] = -Ms[k][k][k] / Ps[k+1][k+1][k]\n",
    "\n",
    "        Ms_1[k][k] = Ps[k+1][k+1]\n",
    "\n",
    "        Ps[k] = Ms_1[k] @ Ps[k+1] @ Ms[k]\n",
    "        if M is None:\n",
    "            M = Ms[k]\n",
    "        else:\n",
    "            M @= Ms[k]\n",
    "\n",
    "    # print(Ms[k])\n",
    "    # print(Ms_1[k])\n",
    "    # print(Ps[k])\n",
    "\n",
    "    return Ps[0][0], M\n",
    "\n",
    "coefs, M = Danilevsky(matrix)\n",
    "coefs, M"
   ]
  },
  {
   "cell_type": "code",
   "execution_count": 196,
   "id": "fc7f2d4d",
   "metadata": {},
   "outputs": [
    {
     "data": {
      "text/plain": [
       "[[np.float64(-1.431431431431431), np.float64(-1.411411411411411)],\n",
       " [np.float64(0.21021021021021014), np.float64(0.23023023023023015)],\n",
       " [np.float64(1.531531531531531), np.float64(1.551551551551551)],\n",
       " [np.float64(5.635635635635635), np.float64(5.655655655655655)]]"
      ]
     },
     "execution_count": 196,
     "metadata": {},
     "output_type": "execute_result"
    }
   ],
   "source": [
    "def F(X, coefs):\n",
    "    n = len(coefs)\n",
    "    degrees = np.arange(n-1, -1, -1)\n",
    "    # print(X, n, coefs, degrees)\n",
    "    # [-2, 1, 5, -2, 7]\n",
    "    # f = -2*x**4 + x**3 + 5*x**2 - 2*x + 7\n",
    "    res = np.zeros(len(X))\n",
    "    for x_index in range(len(X)):\n",
    "        for degree_index in range(len(degrees)):\n",
    "            res[x_index] += coefs[degree_index] * X[x_index]**degrees[degree_index]\n",
    "    return res\n",
    "\n",
    "def find_intervals(coefs, interval_of_finding=[-10, 10], dots_count=30):\n",
    "    dots_count = int(dots_count)\n",
    "    intervals = []\n",
    "    n = len(coefs)\n",
    "    polys = [coefs, np.polyder(coefs)]\n",
    "    for i in range(1, n-1):\n",
    "        polys.append(-np.polydiv(polys[i-1], polys[i])[1])\n",
    "\n",
    "    # print(polys)\n",
    "\n",
    "    # X = np.array([-2, -1.7, -1.4, -1, 0.8, 1.1, 1.4, 1.7, 2.0, 2.1])\n",
    "    X = np.linspace(*interval_of_finding, dots_count)\n",
    "    matrix = np.zeros((len(polys), len(X)))\n",
    "    for poly_index in range(len(polys)):\n",
    "        # print(polys[poly_index])\n",
    "        # matrix[poly_index] = F(X, polys[poly_index])\n",
    "        matrix[poly_index] = np.polyval(polys[poly_index], X)\n",
    "\n",
    "    # print(matrix.T)\n",
    "    # print(np.sum(matrix.T > 0, axis=1))\n",
    "    # print(np.sign(matrix.T))\n",
    "    # print(np.diff(np.sign(matrix.T), axis=1) != 0)\n",
    "    sign_change = np.sum(np.diff(np.sign(matrix.T), axis=1) != 0, axis=1)\n",
    "    difference = np.diff(sign_change, axis=0) != 0\n",
    "    for diff_index in range(len(difference)):\n",
    "        if difference[diff_index]:\n",
    "            intervals.append([X[diff_index], X[diff_index+1]])\n",
    "    return intervals\n",
    "    # print(difference)\n",
    "coef = np.array([1, *(-coefs)])\n",
    "# print(coef)\n",
    "intervals = find_intervals(coef, interval_of_finding=[-10, 10], dots_count=1e3)\n",
    "intervals\n",
    "# find_intervals(np.array([-2, 1, 5, -2, 7]), interval_of_finding=[-10, 10], dots_count=1e3)"
   ]
  },
  {
   "cell_type": "code",
   "execution_count": 200,
   "id": "518b3bce",
   "metadata": {},
   "outputs": [
    {
     "data": {
      "text/plain": [
       "array([-1.42008659,  0.22263593,  1.54541834,  5.65203233])"
      ]
     },
     "execution_count": 200,
     "metadata": {},
     "output_type": "execute_result"
    }
   ],
   "source": [
    "def Newton(a, b, coefs, epsilon=1e-6):\n",
    "    xk = a\n",
    "    xk_1 = b\n",
    "\n",
    "    count = 0\n",
    "\n",
    "    while abs(xk - xk_1) >= epsilon or abs(np.polyval(coefs, xk)) >= epsilon:\n",
    "        xk_1 = xk\n",
    "        xk = xk - np.polyval(coefs, xk)/np.polyval(np.polyder(coefs), xk)\n",
    "        xk = np.clip(xk, a, b)\n",
    "        count += 1\n",
    "\n",
    "    return xk\n",
    "main_vectors = np.zeros((len(intervals)))\n",
    "for interval_index in range(len(intervals)):\n",
    "    main_vectors[interval_index] = Newton(*intervals[interval_index], coef)\n",
    "main_vectors"
   ]
  },
  {
   "cell_type": "code",
   "execution_count": 202,
   "id": "d8464093",
   "metadata": {},
   "outputs": [
    {
     "data": {
      "text/plain": [
       "array([[-1.42008659],\n",
       "       [ 0.22263593],\n",
       "       [ 1.54541834],\n",
       "       [ 5.65203233]])"
      ]
     },
     "execution_count": 202,
     "metadata": {},
     "output_type": "execute_result"
    }
   ],
   "source": [
    "main_vector = np.atleast_2d(main_vectors).T\n",
    "main_vector"
   ]
  },
  {
   "cell_type": "code",
   "execution_count": 188,
   "id": "0f165d92",
   "metadata": {},
   "outputs": [
    {
     "data": {
      "text/plain": [
       "array([  6.    ,   0.2   , -12.735 ,   2.7616])"
      ]
     },
     "execution_count": 188,
     "metadata": {},
     "output_type": "execute_result"
    }
   ],
   "source": [
    "coefs"
   ]
  },
  {
   "cell_type": "code",
   "execution_count": null,
   "id": "0b3c2fa8",
   "metadata": {},
   "outputs": [],
   "source": [
    "def Gauss_Method(A, b):\n",
    "    x = np.zeros_like(b)\n",
    "    for col in range(1, A.shape[1]):\n",
    "        for row in range(col, A.shape[0]):\n",
    "            zeroiator = (- A[row, col-1]/A[col-1, col-1])\n",
    "            A[row] = A[row] + A[col-1] * zeroiator\n",
    "            b[row] = b[row] + b[col-1] * zeroiator\n",
    "        print(A)\n",
    "        print(b)\n",
    "    # print(A)\n",
    "    # print(b)\n",
    "    # x[-1] = b[-1] / A[-1, -1]\n",
    "    # x[-2] = (b[-2] - A[-2, -1] * x[-1]) / A[-2, -2]\n",
    "    # x[-3] = (b[-3] - A[-3, -1] * x[-1] - A[-3, -2] * x[-2]) / A[-3, -3]\n",
    "    for col in range(A.shape[1]-1, -1, -1):\n",
    "        result = 0\n",
    "        for row in range(A.shape[0]-1, col, -1):\n",
    "            result += A[col, row] * x[row]\n",
    "        x[col] = (b[col] - result)/A[col, col]\n",
    "\n",
    "\n",
    "    return x"
   ]
  }
 ],
 "metadata": {
  "kernelspec": {
   "display_name": "Python 3",
   "language": "python",
   "name": "python3"
  },
  "language_info": {
   "codemirror_mode": {
    "name": "ipython",
    "version": 3
   },
   "file_extension": ".py",
   "mimetype": "text/x-python",
   "name": "python",
   "nbconvert_exporter": "python",
   "pygments_lexer": "ipython3",
   "version": "3.12.3"
  }
 },
 "nbformat": 4,
 "nbformat_minor": 5
}
