{
 "cells": [
  {
   "cell_type": "code",
   "execution_count": null,
   "id": "e94c7623",
   "metadata": {},
   "outputs": [],
   "source": [
    "Рівняння має вигляд: )()1( 2 xFyxy +−=ʹ . Покласти 1,0=h , початкові умови )0(x визначити,\n",
    "використовуючи точне значення розв’язку.\n",
    "Нехай розв’язок відомий та визначається згідно варіантів:"
   ]
  }
 ],
 "metadata": {
  "language_info": {
   "name": "python"
  }
 },
 "nbformat": 4,
 "nbformat_minor": 5
}
